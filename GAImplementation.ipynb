{
  "cells": [
    {
      "cell_type": "markdown",
      "metadata": {
        "id": "T3zJf4n2FBCV"
      },
      "source": [
        "# TUGAS 5 - REINFORCEMENT LEARNING\n",
        "# GENETIC ALGORITHM IMPLEMENTATION\n",
        "\n",
        "## Nama Anggota: \n",
        "## Anggito Anju Hartawan Manalu - 5025201216\n",
        "## Eldenabih Tavirazin Lutvie - 5025201213\n",
        "## Aqil Ramadhan Hadiono - 5025201261\n",
        "## Sayid Ziyad Ibrahim Alaydrus - 5025201147\n",
        "\n",
        "## Kelas    : Kecerdasan Komputasional F"
      ]
    },
    {
      "cell_type": "markdown",
      "metadata": {
        "id": "0IbXkNFQFB_H"
      },
      "source": [
        "### Penjelasan Tugas\n",
        "\n",
        "Pada tugas kali ini kita akan mengimplementasikan salah satu algoritma reinforcement learning, yaitu Genetic Algorithm. Genetic Algorithm adalah Heuristic Search Algorithm yang mengimplementasikan teori evolusi yang dikembangkan oleh Charles Darwin. Algoritma ini akan melakukan natural selection untuk semua model dan melakukan seleksi untuk menemukan model terbaik di setiap iterasi generasi."
      ]
    },
    {
      "cell_type": "markdown",
      "metadata": {
        "id": "c-hErhJmHwfB"
      },
      "source": [
        "# 1. Import Dependencies\n",
        "\n",
        "Untuk persiapan kita akan mengimport semua package dan modul yang akan kita gunakan untuk mengimplementasikan Genetic Algorithhm. Pada implementasi ini saya akan menggunakan modul pygad. Modul pygad adalah modul yang digunakan untuk membentuk genetic algorithm dan optimisasi Machine Learning."
      ]
    },
    {
      "cell_type": "markdown",
      "metadata": {
        "id": "G7cHqS6_E-CA"
      },
      "source": []
    },
    {
      "cell_type": "code",
      "execution_count": null,
      "metadata": {
        "colab": {
          "base_uri": "https://localhost:8080/"
        },
        "id": "t8O75MzNFZYg",
        "outputId": "3d05f093-7fbc-423d-fdc8-77e304dfbbee"
      },
      "outputs": [
        {
          "name": "stdout",
          "output_type": "stream",
          "text": [
            "Looking in indexes: https://pypi.org/simple, https://us-python.pkg.dev/colab-wheels/public/simple/\n",
            "Requirement already satisfied: pygad in /usr/local/lib/python3.8/dist-packages (2.18.1)\n",
            "Requirement already satisfied: matplotlib in /usr/local/lib/python3.8/dist-packages (from pygad) (3.2.2)\n",
            "Requirement already satisfied: numpy in /usr/local/lib/python3.8/dist-packages (from pygad) (1.21.6)\n",
            "Requirement already satisfied: pyparsing!=2.0.4,!=2.1.2,!=2.1.6,>=2.0.1 in /usr/local/lib/python3.8/dist-packages (from matplotlib->pygad) (3.0.9)\n",
            "Requirement already satisfied: cycler>=0.10 in /usr/local/lib/python3.8/dist-packages (from matplotlib->pygad) (0.11.0)\n",
            "Requirement already satisfied: python-dateutil>=2.1 in /usr/local/lib/python3.8/dist-packages (from matplotlib->pygad) (2.8.2)\n",
            "Requirement already satisfied: kiwisolver>=1.0.1 in /usr/local/lib/python3.8/dist-packages (from matplotlib->pygad) (1.4.4)\n",
            "Requirement already satisfied: six>=1.5 in /usr/local/lib/python3.8/dist-packages (from python-dateutil>=2.1->matplotlib->pygad) (1.15.0)\n"
          ]
        }
      ],
      "source": [
        "# Install package pygad\n",
        "!pip3 install pygad\n",
        "\n",
        "# Import modul package yang digunakan\n",
        "import pygad\n",
        "import numpy\n",
        "from random import randint"
      ]
    },
    {
      "cell_type": "markdown",
      "metadata": {
        "id": "rQuNr0y4SBuZ"
      },
      "source": [
        "# 2. Menyiapkan Input dan Output yang diinginkan\n",
        "\n",
        "Pada implementasi GA ini, kita akan mencoba mendapatkan kata \"ALGORITMA\". Kita juga akan menggunakan modul random untuk mendapatkan input random. Untuk memudahkan perhitungan, kita akan menggunakan angka sebagai penanda tiap hurufnya. Misalnya untuk ALGORITMA, berarti terdiri dari list of integer sebagai berikut [1, 12, 7, 15, 18, 9, 20, 13, 1].\n",
        "\n",
        "Untuk mendapatkan input random, kita akan menggunakan method randint."
      ]
    },
    {
      "cell_type": "code",
      "execution_count": null,
      "metadata": {
        "colab": {
          "base_uri": "https://localhost:8080/"
        },
        "id": "8C9rut_BSEw4",
        "outputId": "8c03b69b-11f9-4f49-c253-9fe63d9bc82e"
      },
      "outputs": [
        {
          "name": "stdout",
          "output_type": "stream",
          "text": [
            "Input :  [16, 1, 8, 11, 21, 21, 9, 3, 6]\n",
            "P A H K U U I C F Expected Output:  [1, 12, 7, 15, 18, 9, 20, 13, 1]\n"
          ]
        }
      ],
      "source": [
        "# Random input function\n",
        "input = []\n",
        "for i in range(9):\n",
        "  input.append(randint(1, 26))\n",
        "\n",
        "expected_output = [1, 12, 7, 15, 18, 9, 20, 13, 1]\n",
        "\n",
        "print(\"Input : \", input)\n",
        "for i in input:\n",
        "  print(chr(round(i) + 64), end=\" \")\n",
        "print(\"Expected Output: \", expected_output)"
      ]
    },
    {
      "cell_type": "markdown",
      "metadata": {
        "id": "6KXQuqtLU6Zh"
      },
      "source": [
        "# 3. Menyiapkan Fitness Function\n",
        "\n",
        "Untuk fitness function, kita akan mengurangi total jumlah huruf yang dikalikan dengan kemungkinan huruf yang dipakai (26) dan dikurangi dengan total selisih dari solution sementara dengan expected output."
      ]
    },
    {
      "cell_type": "code",
      "execution_count": null,
      "metadata": {
        "id": "6P4PBlKKU7bT"
      },
      "outputs": [],
      "source": [
        "def fitness_func(solution, solution_index):\n",
        "  expected_output = [1, 12, 7, 15, 18, 9, 20, 13, 1]\n",
        "  total_pos = 26 * 9\n",
        "  fitness_score = 0\n",
        "  for i in range(len(expected_output)):\n",
        "    fitness_score += abs(expected_output[i] - solution[i])\n",
        "    \n",
        "  return total_pos - fitness_score"
      ]
    },
    {
      "cell_type": "markdown",
      "metadata": {
        "id": "qNIZoSbmtYa2"
      },
      "source": [
        "# 4. Menyiapkan parameter untuk menjalankan GA dengan PyGAD\n",
        "\n",
        "Kita akan membutuhkan 12 parameter input untuk melakukan GA\n",
        "1. fitness_function = fungsi untuk menentukan fitness score\n",
        "2. num_generations = jumlah maksimal generasi yang akan dibentuk\n",
        "3. num_parents_mating = jumlah pasangan parent yang menghasilkan child baru\n",
        "4. sol_per_pop = jumlah solution yang akan didapatkan dalam setiap turunan generasinya\n",
        "5. num_genes = panjang dari gen tiap kromosom\n",
        "6. init_range_low\n",
        "7. init_range_high\n",
        "8. parent_selection_type = menentukan parent yang akan ikut dalam seleksi berikutnya\n",
        "9. keep_parents = jumlah parent yang akan ikut dalam seleksi berikutnya\n",
        "10. crossover_type = tipe crossover yang akan digunakan\n",
        "11. mutation_type = tipe mutasi yang akan digunakan\n",
        "12. mutation_percent_genes = kemungkinan mutasi tiap generasinya"
      ]
    },
    {
      "cell_type": "code",
      "execution_count": null,
      "metadata": {
        "id": "gQs5HljBvOM5"
      },
      "outputs": [],
      "source": [
        "fitness_function = fitness_func\n",
        "\n",
        "num_generations = 1500\n",
        "num_parents_mating = 6\n",
        "\n",
        "sol_per_pop = 6\n",
        "num_genes = len(input)\n",
        "\n",
        "init_range_low = -2\n",
        "init_range_high = 5\n",
        "\n",
        "parent_selection_type = \"random\"\n",
        "keep_parents = 1\n",
        "\n",
        "crossover_type = \"two_points\"\n",
        "\n",
        "mutation_type = \"random\"\n",
        "mutation_percent_genes = 20"
      ]
    },
    {
      "cell_type": "markdown",
      "metadata": {
        "id": "dRvrCI9GwZaO"
      },
      "source": [
        "# 5. Membuat instance GA dan memulai optimisasi GA\n",
        "\n",
        "Untuk membuat instance kita akan memasukkan semua informasi input parameter yang sudah kita buat pada tahap 4."
      ]
    },
    {
      "cell_type": "code",
      "execution_count": null,
      "metadata": {
        "id": "bH2nI88Ewm9U"
      },
      "outputs": [],
      "source": [
        "# Membuat instance\n",
        "ga_instance = pygad.GA(num_generations=num_generations,\n",
        "                       num_parents_mating=num_parents_mating,\n",
        "                       fitness_func=fitness_function,\n",
        "                       sol_per_pop=sol_per_pop,\n",
        "                       num_genes=num_genes,\n",
        "                       init_range_low=init_range_low,\n",
        "                       init_range_high=init_range_high,\n",
        "                       parent_selection_type=parent_selection_type,\n",
        "                       keep_parents=keep_parents,\n",
        "                       crossover_type=crossover_type,\n",
        "                       mutation_type=mutation_type,\n",
        "                       mutation_percent_genes=mutation_percent_genes)\n",
        "\n",
        "ga_instance.run()"
      ]
    },
    {
      "cell_type": "code",
      "execution_count": null,
      "metadata": {
        "colab": {
          "base_uri": "https://localhost:8080/"
        },
        "id": "DJsaw4VV2S5U",
        "outputId": "88fcbdf1-d9e8-488b-ddeb-8761d70e3c5d"
      },
      "outputs": [
        {
          "name": "stdout",
          "output_type": "stream",
          "text": [
            "Parameters of the best solution : [ 0.9884289  11.99788023  7.06998905 14.99274415 18.00001016  8.97669618\n",
            " 20.0026497  12.99685202  1.00072726]\n",
            "Fitness value of the best solution = 233.87922531666464\n"
          ]
        }
      ],
      "source": [
        "solution, solution_fitness, solution_idx = ga_instance.best_solution()\n",
        "print(\"Parameters of the best solution : {solution}\".format(solution=solution))\n",
        "print(\"Fitness value of the best solution = {solution_fitness}\".format(solution_fitness=solution_fitness))"
      ]
    },
    {
      "cell_type": "markdown",
      "metadata": {
        "id": "_wX1NHLTBJtu"
      },
      "source": [
        "# 6. Cek data akhir\n",
        "\n",
        "Untuk mendapatkan hasil akhir berupa kalimat, kita akan melihat angka-angka yang telah melalui seleksi GA menjadi sebuah rangkaian kalimat yang kita ekspektasikan outputnya"
      ]
    },
    {
      "cell_type": "code",
      "execution_count": null,
      "metadata": {
        "colab": {
          "base_uri": "https://localhost:8080/"
        },
        "id": "YzCg2JkkBPpm",
        "outputId": "e03bd58a-5c76-4ac3-b888-b54ad3853589"
      },
      "outputs": [
        {
          "name": "stdout",
          "output_type": "stream",
          "text": [
            "A L G O R I T M A "
          ]
        }
      ],
      "source": [
        "for i in solution:\n",
        "  print(chr(round(i) + 64), end=\" \")"
      ]
    }
  ],
  "metadata": {
    "colab": {
      "provenance": []
    },
    "kernelspec": {
      "display_name": "base",
      "language": "python",
      "name": "python3"
    },
    "language_info": {
      "name": "python",
      "version": "3.9.7 (default, Sep 16 2021, 16:59:28) [MSC v.1916 64 bit (AMD64)]"
    },
    "vscode": {
      "interpreter": {
        "hash": "7679c2132d3f6ce38c9df14d554b39c06862b36a4e6689c81f9ae15bd0911d7d"
      }
    }
  },
  "nbformat": 4,
  "nbformat_minor": 0
}
