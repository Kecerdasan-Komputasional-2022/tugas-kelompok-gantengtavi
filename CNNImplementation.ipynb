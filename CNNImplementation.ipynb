{
  "nbformat": 4,
  "nbformat_minor": 0,
  "metadata": {
    "colab": {
      "provenance": []
    },
    "kernelspec": {
      "name": "python3",
      "display_name": "Python 3"
    },
    "language_info": {
      "name": "python"
    }
  },
  "cells": [
    {
      "cell_type": "markdown",
      "source": [
        "# TUGAS KELOMPOK IMPLEMENTASI CNN\n",
        "\n",
        "Nama Anggota:\n",
        "1. Anggito Anju Hartawan Manalu - 5025201216\n",
        "2. Eldenabih Tavirazin Lutvie - 5025201213\n",
        "3. Aqil -\n",
        "4. Sayid Zyad -"
      ],
      "metadata": {
        "id": "mtu6gidfFNQm"
      }
    },
    {
      "cell_type": "markdown",
      "source": [
        "# 1. Import Libraries\n",
        "\n",
        "Kita akan menggunakan modul keras untuk implementasi CNN. Kita akan memakai model Sequential pada implementasi kali ini."
      ],
      "metadata": {
        "id": "aNGVo60HFf1H"
      }
    },
    {
      "cell_type": "code",
      "execution_count": null,
      "metadata": {
        "id": "ny2zDwpgEe4a"
      },
      "outputs": [],
      "source": [
        "# Importing the Keras libraries and packages\n",
        "import keras\n",
        "from keras.datasets import fashion_mnist \n",
        "from keras.layers import Dense, Activation, Flatten, Conv2D, MaxPooling2D\n",
        "from keras.models import Sequential\n",
        "from keras.utils import to_categorical\n",
        "import numpy as np\n",
        "import matplotlib.pyplot as plt"
      ]
    },
    {
      "cell_type": "markdown",
      "source": [
        "# 2. Pisahkan Data Train dan Data Test\n",
        "\n",
        "Selanjutnya kita akan me-load data dan menyimpan data-data tersebut menjadi data train dan data test.\n"
      ],
      "metadata": {
        "id": "PHiJdQ46LzUU"
      }
    },
    {
      "cell_type": "code",
      "source": [
        "(train_X,train_Y), (test_X,test_Y) = fashion_mnist.load_data()"
      ],
      "metadata": {
        "colab": {
          "base_uri": "https://localhost:8080/"
        },
        "id": "vJ1q8EWbHTRZ",
        "outputId": "00b5af95-b342-4508-a688-4c8127d2b454"
      },
      "execution_count": null,
      "outputs": [
        {
          "output_type": "stream",
          "name": "stdout",
          "text": [
            "Downloading data from https://storage.googleapis.com/tensorflow/tf-keras-datasets/train-labels-idx1-ubyte.gz\n",
            "29515/29515 [==============================] - 0s 0us/step\n",
            "Downloading data from https://storage.googleapis.com/tensorflow/tf-keras-datasets/train-images-idx3-ubyte.gz\n",
            "26421880/26421880 [==============================] - 0s 0us/step\n",
            "Downloading data from https://storage.googleapis.com/tensorflow/tf-keras-datasets/t10k-labels-idx1-ubyte.gz\n",
            "5148/5148 [==============================] - 0s 0us/step\n",
            "Downloading data from https://storage.googleapis.com/tensorflow/tf-keras-datasets/t10k-images-idx3-ubyte.gz\n",
            "4422102/4422102 [==============================] - 0s 0us/step\n"
          ]
        }
      ]
    },
    {
      "cell_type": "markdown",
      "source": [
        "# 3. Reshape Data\n",
        "\n",
        "Selanjutnya kita akan membuat ulang bentuk data yang akan kita simpan. Untuk paramenter-parameternya (n_images, x_shape, y_shape, channels)\n",
        "\n",
        "Disini channels merupakan penentuan warna gambar"
      ],
      "metadata": {
        "id": "CgfrtdRFL-Mm"
      }
    },
    {
      "cell_type": "code",
      "source": [
        "train_X = train_X.reshape(-1, 28,28, 1)\n",
        "test_X = test_X.reshape(-1, 28,28, 1)"
      ],
      "metadata": {
        "id": "J6Yu4c26HT-a"
      },
      "execution_count": null,
      "outputs": []
    },
    {
      "cell_type": "markdown",
      "source": [
        "# 4. Ubah Bentuk Data\n",
        "\n",
        "Kemudian kita harus mengubah nilai dari tiap piksel sehingga memiliki range 0 sampai 1. Hal ini dapat meningkatkan kemampuan model untuk belajar."
      ],
      "metadata": {
        "id": "IblaDkHCM47f"
      }
    },
    {
      "cell_type": "code",
      "source": [
        "train_X = train_X.astype('float32')\n",
        "test_X = test_X.astype('float32')\n",
        "train_X = train_X / 255\n",
        "test_X = test_X / 255"
      ],
      "metadata": {
        "id": "4mZeUtcNHYbV"
      },
      "execution_count": null,
      "outputs": []
    },
    {
      "cell_type": "code",
      "source": [
        "train_Y_one_hot = to_categorical(train_Y)\n",
        "test_Y_one_hot = to_categorical(test_Y)"
      ],
      "metadata": {
        "id": "WHzNUtdZHdPA"
      },
      "execution_count": null,
      "outputs": []
    },
    {
      "cell_type": "markdown",
      "source": [
        "# 5. Training\n",
        "\n",
        "Kita akan membuat model dengan semua layer terkait untuk melakukan training pada model sebagai berikut"
      ],
      "metadata": {
        "id": "-3UCXukONS3l"
      }
    },
    {
      "cell_type": "code",
      "source": [
        "# Sequential Model\n",
        "model = Sequential()"
      ],
      "metadata": {
        "id": "0lIWmhaAHf6D"
      },
      "execution_count": null,
      "outputs": []
    },
    {
      "cell_type": "code",
      "source": [
        "# Convolation Layer and Pooling Layer\n",
        "model.add(Conv2D(64, (3,3), input_shape=(28, 28, 1)))\n",
        "model.add(Activation('relu'))\n",
        "model.add(MaxPooling2D(pool_size=(2,2)))"
      ],
      "metadata": {
        "id": "qpNWwVK3HhJD"
      },
      "execution_count": null,
      "outputs": []
    },
    {
      "cell_type": "code",
      "source": [
        "# Convolation Layer and Pooling Layer\n",
        "model.add(Conv2D(64, (3,3)))\n",
        "model.add(Activation('relu'))\n",
        "model.add(MaxPooling2D(pool_size=(2,2)))"
      ],
      "metadata": {
        "id": "vsw2x1opHigx"
      },
      "execution_count": null,
      "outputs": []
    },
    {
      "cell_type": "code",
      "source": [
        "# Hidden Layer\n",
        "model.add(Flatten())\n",
        "model.add(Dense(64))"
      ],
      "metadata": {
        "id": "BNhM3PMGHkJl"
      },
      "execution_count": null,
      "outputs": []
    },
    {
      "cell_type": "code",
      "source": [
        "# Output Layer\n",
        "model.add(Dense(10))\n",
        "model.add(Activation('softmax'))"
      ],
      "metadata": {
        "id": "rBIE7ukLHmCH"
      },
      "execution_count": null,
      "outputs": []
    },
    {
      "cell_type": "code",
      "source": [
        "# Melakukan compile pada model\n",
        "model.compile(loss=keras.losses.categorical_crossentropy, optimizer=keras.optimizers.Adam(),metrics=['accuracy'])"
      ],
      "metadata": {
        "id": "YAo1K3OuHnpw"
      },
      "execution_count": null,
      "outputs": []
    },
    {
      "cell_type": "code",
      "source": [
        "# Melakukan training data dengan 5 kali perulangan forward-back propagation\n",
        "model.fit(train_X, train_Y_one_hot, batch_size=64, epochs=5)"
      ],
      "metadata": {
        "colab": {
          "base_uri": "https://localhost:8080/"
        },
        "id": "NPhgrYfpHqt9",
        "outputId": "a12eb58e-4924-40a9-a334-fe35059dfeb2"
      },
      "execution_count": null,
      "outputs": [
        {
          "output_type": "stream",
          "name": "stdout",
          "text": [
            "Epoch 1/5\n",
            "938/938 [==============================] - 52s 55ms/step - loss: 0.4755 - accuracy: 0.8295\n",
            "Epoch 2/5\n",
            "938/938 [==============================] - 52s 56ms/step - loss: 0.3181 - accuracy: 0.8850\n",
            "Epoch 3/5\n",
            "938/938 [==============================] - 52s 56ms/step - loss: 0.2803 - accuracy: 0.8982\n",
            "Epoch 4/5\n",
            "938/938 [==============================] - 51s 54ms/step - loss: 0.2491 - accuracy: 0.9100\n",
            "Epoch 5/5\n",
            "938/938 [==============================] - 50s 53ms/step - loss: 0.2300 - accuracy: 0.9154\n"
          ]
        },
        {
          "output_type": "execute_result",
          "data": {
            "text/plain": [
              "<keras.callbacks.History at 0x7f3caa5b0590>"
            ]
          },
          "metadata": {},
          "execution_count": 13
        }
      ]
    },
    {
      "cell_type": "markdown",
      "source": [
        "# 6. Evaluation\n",
        "\n",
        "Setelah dilakukan training kita akan melihat tingkat akurasi dan tingkat kesalahan dari training model terkait."
      ],
      "metadata": {
        "id": "ySqQPi4VN1ME"
      }
    },
    {
      "cell_type": "code",
      "source": [
        "# Evaluasi training\n",
        "test_loss, test_acc = model.evaluate(test_X, test_Y_one_hot)\n",
        "print('Test loss', test_loss)\n",
        "print('Test accuracy', test_acc)"
      ],
      "metadata": {
        "colab": {
          "base_uri": "https://localhost:8080/"
        },
        "id": "CWgb2X36HsXN",
        "outputId": "c6da32a2-6185-4d6d-ae08-c04715755aa6"
      },
      "execution_count": null,
      "outputs": [
        {
          "output_type": "stream",
          "name": "stdout",
          "text": [
            "313/313 [==============================] - 3s 8ms/step - loss: 0.2797 - accuracy: 0.9000\n",
            "Test loss 0.2796740233898163\n",
            "Test accuracy 0.8999999761581421\n"
          ]
        }
      ]
    },
    {
      "cell_type": "markdown",
      "source": [
        "# 7. Testing\n",
        "\n",
        "Pada step terakhir, kita akan melakukan testing pada model yang telah kita buat untuk image yang kita buat untuk testing."
      ],
      "metadata": {
        "id": "vLOlr8QlOBqR"
      }
    },
    {
      "cell_type": "code",
      "source": [
        "# TEST 1\n",
        "predictions = model.predict(test_X)\n",
        "print(np.argmax(np.round(predictions[0])))"
      ],
      "metadata": {
        "colab": {
          "base_uri": "https://localhost:8080/"
        },
        "id": "i0_DmJDLHty2",
        "outputId": "adb47504-49d8-4160-b68d-51a228ce39bd"
      },
      "execution_count": null,
      "outputs": [
        {
          "output_type": "stream",
          "name": "stdout",
          "text": [
            "313/313 [==============================] - 3s 10ms/step\n",
            "9\n"
          ]
        }
      ]
    },
    {
      "cell_type": "code",
      "source": [
        "plt.imshow(test_X[0].reshape(28, 28), cmap = plt.cm.binary)\n",
        "plt.show()"
      ],
      "metadata": {
        "colab": {
          "base_uri": "https://localhost:8080/",
          "height": 265
        },
        "id": "58mX2MUYHvRu",
        "outputId": "88d95c3d-c5eb-4b4c-a471-05285a53ced2"
      },
      "execution_count": null,
      "outputs": [
        {
          "output_type": "display_data",
          "data": {
            "text/plain": [
              "<Figure size 432x288 with 1 Axes>"
            ],
            "image/png": "[encoded data removed]"
          },
          "metadata": {
            "needs_background": "light"
          }
        }
      ]
    },
    {
      "cell_type": "code",
      "source": [
        "# TEST 2\n",
        "predictions = model.predict(test_X)\n",
        "print(np.argmax(np.round(predictions[1])))"
      ],
      "metadata": {
        "colab": {
          "base_uri": "https://localhost:8080/"
        },
        "id": "lgtatkQDSVsv",
        "outputId": "98400cc8-888c-4493-bfd5-33de9e2654b5"
      },
      "execution_count": null,
      "outputs": [
        {
          "output_type": "stream",
          "name": "stdout",
          "text": [
            "313/313 [==============================] - 2s 8ms/step\n",
            "2\n"
          ]
        }
      ]
    },
    {
      "cell_type": "code",
      "source": [
        "plt.imshow(test_X[1].reshape(28, 28), cmap = plt.cm.binary)\n",
        "plt.show()"
      ],
      "metadata": {
        "colab": {
          "base_uri": "https://localhost:8080/",
          "height": 265
        },
        "id": "uX9sr2BmOPYq",
        "outputId": "2bcf8e13-b2f9-4146-f38d-dd5872111e6e"
      },
      "execution_count": null,
      "outputs": [
        {
          "output_type": "display_data",
          "data": {
            "text/plain": [
              "<Figure size 432x288 with 1 Axes>"
            ],
            "image/png": "[encoded data removed]"
          },
          "metadata": {
            "needs_background": "light"
          }
        }
      ]
    },
    {
      "cell_type": "code",
      "source": [
        "# TEST 3\n",
        "predictions = model.predict(test_X)\n",
        "print(np.argmax(np.round(predictions[2])))"
      ],
      "metadata": {
        "colab": {
          "base_uri": "https://localhost:8080/"
        },
        "id": "k3si060qSjAC",
        "outputId": "ce37d82e-b169-4b5b-b356-10215892f765"
      },
      "execution_count": null,
      "outputs": [
        {
          "output_type": "stream",
          "name": "stdout",
          "text": [
            "313/313 [==============================] - 3s 8ms/step\n",
            "1\n"
          ]
        }
      ]
    },
    {
      "cell_type": "code",
      "source": [
        "plt.imshow(test_X[2].reshape(28, 28), cmap = plt.cm.binary)\n",
        "plt.show()"
      ],
      "metadata": {
        "colab": {
          "base_uri": "https://localhost:8080/",
          "height": 265
        },
        "id": "VbpNU7K4SKYb",
        "outputId": "b10da90e-1806-456a-b361-e5007662c942"
      },
      "execution_count": null,
      "outputs": [
        {
          "output_type": "display_data",
          "data": {
            "text/plain": [
              "<Figure size 432x288 with 1 Axes>"
            ],
            "image/png": "[encoded data removed]"
          },
          "metadata": {
            "needs_background": "light"
          }
        }
      ]
    }
  ]
}