{
  "cells": [
    {
      "attachments": {},
      "cell_type": "markdown",
      "metadata": {
        "id": "vX91iu4ktm8d"
      },
      "source": [
        "# TUGAS 4 - KECERDASAN KOMPUTASIONAL\n",
        "\n",
        "## ANN Classification\n",
        "\n",
        "### Nama    : Anggito Anju Hartawan Manalu\n",
        "### Kelas   : Kecerdasan Komputasional (KK) F\n",
        "### NRP     : 5025201216"
      ]
    },
    {
      "cell_type": "markdown",
      "metadata": {
        "id": "6WQnh_ontqA8"
      },
      "source": [
        "### Penjelasan Tugas\n",
        "\n",
        "Pada tugas kali ini saya akan mengimplementasikan ANN Classification pada Python. Disini saya akan menggunakan dataset yang sudah tersedia pada modul sklearn. Saya akan menggunakan dataset Wine Recognition."
      ]
    },
    {
      "cell_type": "markdown",
      "metadata": {
        "id": "o-fSe7XStyZM"
      },
      "source": [
        "# 1. Import Library\n",
        "\n",
        "Pertama-tama kita harus meng-import library yang kita butuhkan."
      ]
    },
    {
      "cell_type": "code",
      "execution_count": 1,
      "metadata": {
        "id": "ss6b3FqYtopd"
      },
      "outputs": [],
      "source": [
        "import tensorflow as tf\n",
        "import pandas as pd\n",
        "import numpy as np\n",
        "import matplotlib.pyplot as plt\n",
        "import seaborn as sns\n",
        "from sklearn.model_selection import train_test_split\n",
        "from sklearn.preprocessing import MinMaxScaler, Normalizer\n",
        "from sklearn.decomposition import PCA as sklearnPCA\n",
        "\n",
        "# Supress unnecessary warnings so that presentation looks clean\n",
        "import warnings\n",
        "warnings.filterwarnings(\"ignore\")"
      ]
    },
    {
      "cell_type": "markdown",
      "metadata": {
        "id": "BD9EsEmat9NM"
      },
      "source": [
        "# 2. Import Dataset\n",
        "\n",
        "Kemudian kita harus meng-import dataset yang nantinya akan kita klasifikasikan"
      ]
    },
    {
      "cell_type": "code",
      "execution_count": 2,
      "metadata": {
        "id": "T7v7bo6tt-b0"
      },
      "outputs": [],
      "source": [
        "# Load Sklearn Dataset\n",
        "from sklearn import datasets\n",
        "\n",
        "rawData = datasets.load_wine()"
      ]
    },
    {
      "cell_type": "markdown",
      "metadata": {
        "id": "e0PR6do3uQC7"
      },
      "source": [
        "# 3. Eksplorasi Dataset\n",
        "\n",
        "Kita akan mengubah raw data yang sebelumnya berbentuk dictionary menjadi bentuk dataframe dan akan melakukan eksplorasi data pada dataset ini."
      ]
    },
    {
      "cell_type": "code",
      "execution_count": 3,
      "metadata": {
        "colab": {
          "base_uri": "https://localhost:8080/",
          "height": 270
        },
        "id": "7O9JHXdpuhg8",
        "outputId": "0c6333bb-e7dd-4293-cf7a-0584fb501430"
      },
      "outputs": [
        {
          "data": {
            "text/html": [
              "\n",
              "  <div id=\"df-4bdabe2c-b319-4b19-9188-6dcd79fd168f\">\n",
              "    <div class=\"colab-df-container\">\n",
              "      <div>\n",
              "<style scoped>\n",
              "    .dataframe tbody tr th:only-of-type {\n",
              "        vertical-align: middle;\n",
              "    }\n",
              "\n",
              "    .dataframe tbody tr th {\n",
              "        vertical-align: top;\n",
              "    }\n",
              "\n",
              "    .dataframe thead th {\n",
              "        text-align: right;\n",
              "    }\n",
              "</style>\n",
              "<table border=\"1\" class=\"dataframe\">\n",
              "  <thead>\n",
              "    <tr style=\"text-align: right;\">\n",
              "      <th></th>\n",
              "      <th>alcohol</th>\n",
              "      <th>malic_acid</th>\n",
              "      <th>ash</th>\n",
              "      <th>alcalinity_of_ash</th>\n",
              "      <th>magnesium</th>\n",
              "      <th>total_phenols</th>\n",
              "      <th>flavanoids</th>\n",
              "      <th>nonflavanoid_phenols</th>\n",
              "      <th>proanthocyanins</th>\n",
              "      <th>color_intensity</th>\n",
              "      <th>hue</th>\n",
              "      <th>od280/od315_of_diluted_wines</th>\n",
              "      <th>proline</th>\n",
              "    </tr>\n",
              "  </thead>\n",
              "  <tbody>\n",
              "    <tr>\n",
              "      <th>0</th>\n",
              "      <td>14.23</td>\n",
              "      <td>1.71</td>\n",
              "      <td>2.43</td>\n",
              "      <td>15.6</td>\n",
              "      <td>127.0</td>\n",
              "      <td>2.80</td>\n",
              "      <td>3.06</td>\n",
              "      <td>0.28</td>\n",
              "      <td>2.29</td>\n",
              "      <td>5.64</td>\n",
              "      <td>1.04</td>\n",
              "      <td>3.92</td>\n",
              "      <td>1065.0</td>\n",
              "    </tr>\n",
              "    <tr>\n",
              "      <th>1</th>\n",
              "      <td>13.20</td>\n",
              "      <td>1.78</td>\n",
              "      <td>2.14</td>\n",
              "      <td>11.2</td>\n",
              "      <td>100.0</td>\n",
              "      <td>2.65</td>\n",
              "      <td>2.76</td>\n",
              "      <td>0.26</td>\n",
              "      <td>1.28</td>\n",
              "      <td>4.38</td>\n",
              "      <td>1.05</td>\n",
              "      <td>3.40</td>\n",
              "      <td>1050.0</td>\n",
              "    </tr>\n",
              "    <tr>\n",
              "      <th>2</th>\n",
              "      <td>13.16</td>\n",
              "      <td>2.36</td>\n",
              "      <td>2.67</td>\n",
              "      <td>18.6</td>\n",
              "      <td>101.0</td>\n",
              "      <td>2.80</td>\n",
              "      <td>3.24</td>\n",
              "      <td>0.30</td>\n",
              "      <td>2.81</td>\n",
              "      <td>5.68</td>\n",
              "      <td>1.03</td>\n",
              "      <td>3.17</td>\n",
              "      <td>1185.0</td>\n",
              "    </tr>\n",
              "    <tr>\n",
              "      <th>3</th>\n",
              "      <td>14.37</td>\n",
              "      <td>1.95</td>\n",
              "      <td>2.50</td>\n",
              "      <td>16.8</td>\n",
              "      <td>113.0</td>\n",
              "      <td>3.85</td>\n",
              "      <td>3.49</td>\n",
              "      <td>0.24</td>\n",
              "      <td>2.18</td>\n",
              "      <td>7.80</td>\n",
              "      <td>0.86</td>\n",
              "      <td>3.45</td>\n",
              "      <td>1480.0</td>\n",
              "    </tr>\n",
              "    <tr>\n",
              "      <th>4</th>\n",
              "      <td>13.24</td>\n",
              "      <td>2.59</td>\n",
              "      <td>2.87</td>\n",
              "      <td>21.0</td>\n",
              "      <td>118.0</td>\n",
              "      <td>2.80</td>\n",
              "      <td>2.69</td>\n",
              "      <td>0.39</td>\n",
              "      <td>1.82</td>\n",
              "      <td>4.32</td>\n",
              "      <td>1.04</td>\n",
              "      <td>2.93</td>\n",
              "      <td>735.0</td>\n",
              "    </tr>\n",
              "  </tbody>\n",
              "</table>\n",
              "</div>\n",
              "      <button class=\"colab-df-convert\" onclick=\"convertToInteractive('df-4bdabe2c-b319-4b19-9188-6dcd79fd168f')\"\n",
              "              title=\"Convert this dataframe to an interactive table.\"\n",
              "              style=\"display:none;\">\n",
              "        \n",
              "  <svg xmlns=\"http://www.w3.org/2000/svg\" height=\"24px\"viewBox=\"0 0 24 24\"\n",
              "       width=\"24px\">\n",
              "    <path d=\"M0 0h24v24H0V0z\" fill=\"none\"/>\n",
              "    <path d=\"M18.56 5.44l.94 2.06.94-2.06 2.06-.94-2.06-.94-.94-2.06-.94 2.06-2.06.94zm-11 1L8.5 8.5l.94-2.06 2.06-.94-2.06-.94L8.5 2.5l-.94 2.06-2.06.94zm10 10l.94 2.06.94-2.06 2.06-.94-2.06-.94-.94-2.06-.94 2.06-2.06.94z\"/><path d=\"M17.41 7.96l-1.37-1.37c-.4-.4-.92-.59-1.43-.59-.52 0-1.04.2-1.43.59L10.3 9.45l-7.72 7.72c-.78.78-.78 2.05 0 2.83L4 21.41c.39.39.9.59 1.41.59.51 0 1.02-.2 1.41-.59l7.78-7.78 2.81-2.81c.8-.78.8-2.07 0-2.86zM5.41 20L4 18.59l7.72-7.72 1.47 1.35L5.41 20z\"/>\n",
              "  </svg>\n",
              "      </button>\n",
              "      \n",
              "  <style>\n",
              "    .colab-df-container {\n",
              "      display:flex;\n",
              "      flex-wrap:wrap;\n",
              "      gap: 12px;\n",
              "    }\n",
              "\n",
              "    .colab-df-convert {\n",
              "      background-color: #E8F0FE;\n",
              "      border: none;\n",
              "      border-radius: 50%;\n",
              "      cursor: pointer;\n",
              "      display: none;\n",
              "      fill: #1967D2;\n",
              "      height: 32px;\n",
              "      padding: 0 0 0 0;\n",
              "      width: 32px;\n",
              "    }\n",
              "\n",
              "    .colab-df-convert:hover {\n",
              "      background-color: #E2EBFA;\n",
              "      box-shadow: 0px 1px 2px rgba(60, 64, 67, 0.3), 0px 1px 3px 1px rgba(60, 64, 67, 0.15);\n",
              "      fill: #174EA6;\n",
              "    }\n",
              "\n",
              "    [theme=dark] .colab-df-convert {\n",
              "      background-color: #3B4455;\n",
              "      fill: #D2E3FC;\n",
              "    }\n",
              "\n",
              "    [theme=dark] .colab-df-convert:hover {\n",
              "      background-color: #434B5C;\n",
              "      box-shadow: 0px 1px 3px 1px rgba(0, 0, 0, 0.15);\n",
              "      filter: drop-shadow(0px 1px 2px rgba(0, 0, 0, 0.3));\n",
              "      fill: #FFFFFF;\n",
              "    }\n",
              "  </style>\n",
              "\n",
              "      <script>\n",
              "        const buttonEl =\n",
              "          document.querySelector('#df-4bdabe2c-b319-4b19-9188-6dcd79fd168f button.colab-df-convert');\n",
              "        buttonEl.style.display =\n",
              "          google.colab.kernel.accessAllowed ? 'block' : 'none';\n",
              "\n",
              "        async function convertToInteractive(key) {\n",
              "          const element = document.querySelector('#df-4bdabe2c-b319-4b19-9188-6dcd79fd168f');\n",
              "          const dataTable =\n",
              "            await google.colab.kernel.invokeFunction('convertToInteractive',\n",
              "                                                     [key], {});\n",
              "          if (!dataTable) return;\n",
              "\n",
              "          const docLinkHtml = 'Like what you see? Visit the ' +\n",
              "            '<a target=\"_blank\" href=https://colab.research.google.com/notebooks/data_table.ipynb>data table notebook</a>'\n",
              "            + ' to learn more about interactive tables.';\n",
              "          element.innerHTML = '';\n",
              "          dataTable['output_type'] = 'display_data';\n",
              "          await google.colab.output.renderOutput(dataTable, element);\n",
              "          const docLink = document.createElement('div');\n",
              "          docLink.innerHTML = docLinkHtml;\n",
              "          element.appendChild(docLink);\n",
              "        }\n",
              "      </script>\n",
              "    </div>\n",
              "  </div>\n",
              "  "
            ],
            "text/plain": [
              "   alcohol  malic_acid   ash  alcalinity_of_ash  magnesium  total_phenols  \\\n",
              "0    14.23        1.71  2.43               15.6      127.0           2.80   \n",
              "1    13.20        1.78  2.14               11.2      100.0           2.65   \n",
              "2    13.16        2.36  2.67               18.6      101.0           2.80   \n",
              "3    14.37        1.95  2.50               16.8      113.0           3.85   \n",
              "4    13.24        2.59  2.87               21.0      118.0           2.80   \n",
              "\n",
              "   flavanoids  nonflavanoid_phenols  proanthocyanins  color_intensity   hue  \\\n",
              "0        3.06                  0.28             2.29             5.64  1.04   \n",
              "1        2.76                  0.26             1.28             4.38  1.05   \n",
              "2        3.24                  0.30             2.81             5.68  1.03   \n",
              "3        3.49                  0.24             2.18             7.80  0.86   \n",
              "4        2.69                  0.39             1.82             4.32  1.04   \n",
              "\n",
              "   od280/od315_of_diluted_wines  proline  \n",
              "0                          3.92   1065.0  \n",
              "1                          3.40   1050.0  \n",
              "2                          3.17   1185.0  \n",
              "3                          3.45   1480.0  \n",
              "4                          2.93    735.0  "
            ]
          },
          "execution_count": 3,
          "metadata": {},
          "output_type": "execute_result"
        }
      ],
      "source": [
        "df = pd.DataFrame(rawData.data, columns=rawData.feature_names)\n",
        "\n",
        "df.head()"
      ]
    },
    {
      "cell_type": "markdown",
      "metadata": {
        "id": "tz9FyisKvTRe"
      },
      "source": [
        "# 4. Tambahkan Label\n",
        "\n",
        "Kita harus melengkapi dataframe dengan label yang telah tersedia pada dataset yang sebelumnya berupa dictionary. Kita akan membuat kolom bernama 'label' untuk menyimpan data label tersebut."
      ]
    },
    {
      "cell_type": "code",
      "execution_count": 4,
      "metadata": {
        "colab": {
          "base_uri": "https://localhost:8080/"
        },
        "id": "57o52o13viWd",
        "outputId": "c2d04304-3f46-4e04-e73a-95601ae67ccd"
      },
      "outputs": [
        {
          "name": "stdout",
          "output_type": "stream",
          "text": [
            "Besar Data :  (178, 13)\n",
            "Fitur :  Index(['alcohol', 'malic_acid', 'ash', 'alcalinity_of_ash', 'magnesium',\n",
            "       'total_phenols', 'flavanoids', 'nonflavanoid_phenols',\n",
            "       'proanthocyanins', 'color_intensity', 'hue',\n",
            "       'od280/od315_of_diluted_wines', 'proline'],\n",
            "      dtype='object')\n",
            "Label/Target :  [0 0 0 0 0 0 0 0 0 0 0 0 0 0 0 0 0 0 0 0 0 0 0 0 0 0 0 0 0 0 0 0 0 0 0 0 0\n",
            " 0 0 0 0 0 0 0 0 0 0 0 0 0 0 0 0 0 0 0 0 0 0 1 1 1 1 1 1 1 1 1 1 1 1 1 1 1\n",
            " 1 1 1 1 1 1 1 1 1 1 1 1 1 1 1 1 1 1 1 1 1 1 1 1 1 1 1 1 1 1 1 1 1 1 1 1 1\n",
            " 1 1 1 1 1 1 1 1 1 1 1 1 1 1 1 1 1 1 1 2 2 2 2 2 2 2 2 2 2 2 2 2 2 2 2 2 2\n",
            " 2 2 2 2 2 2 2 2 2 2 2 2 2 2 2 2 2 2 2 2 2 2 2 2 2 2 2 2 2 2]\n"
          ]
        }
      ],
      "source": [
        "print(\"Besar Data : \", df.shape)\n",
        "print(\"Fitur : \", df.columns)\n",
        "print(\"Label/Target : \", rawData.target)"
      ]
    },
    {
      "cell_type": "code",
      "execution_count": 5,
      "metadata": {
        "colab": {
          "base_uri": "https://localhost:8080/",
          "height": 270
        },
        "id": "FKjwMUqkxuqe",
        "outputId": "316850bc-35e0-407c-d9b8-935990b211a4"
      },
      "outputs": [
        {
          "data": {
            "text/html": [
              "\n",
              "  <div id=\"df-532d6d7f-25b4-4cfd-8f62-de290d2dfa58\">\n",
              "    <div class=\"colab-df-container\">\n",
              "      <div>\n",
              "<style scoped>\n",
              "    .dataframe tbody tr th:only-of-type {\n",
              "        vertical-align: middle;\n",
              "    }\n",
              "\n",
              "    .dataframe tbody tr th {\n",
              "        vertical-align: top;\n",
              "    }\n",
              "\n",
              "    .dataframe thead th {\n",
              "        text-align: right;\n",
              "    }\n",
              "</style>\n",
              "<table border=\"1\" class=\"dataframe\">\n",
              "  <thead>\n",
              "    <tr style=\"text-align: right;\">\n",
              "      <th></th>\n",
              "      <th>alcohol</th>\n",
              "      <th>malic_acid</th>\n",
              "      <th>ash</th>\n",
              "      <th>alcalinity_of_ash</th>\n",
              "      <th>magnesium</th>\n",
              "      <th>total_phenols</th>\n",
              "      <th>flavanoids</th>\n",
              "      <th>nonflavanoid_phenols</th>\n",
              "      <th>proanthocyanins</th>\n",
              "      <th>color_intensity</th>\n",
              "      <th>hue</th>\n",
              "      <th>od280/od315_of_diluted_wines</th>\n",
              "      <th>proline</th>\n",
              "      <th>label</th>\n",
              "    </tr>\n",
              "  </thead>\n",
              "  <tbody>\n",
              "    <tr>\n",
              "      <th>0</th>\n",
              "      <td>14.23</td>\n",
              "      <td>1.71</td>\n",
              "      <td>2.43</td>\n",
              "      <td>15.6</td>\n",
              "      <td>127.0</td>\n",
              "      <td>2.80</td>\n",
              "      <td>3.06</td>\n",
              "      <td>0.28</td>\n",
              "      <td>2.29</td>\n",
              "      <td>5.64</td>\n",
              "      <td>1.04</td>\n",
              "      <td>3.92</td>\n",
              "      <td>1065.0</td>\n",
              "      <td>0</td>\n",
              "    </tr>\n",
              "    <tr>\n",
              "      <th>1</th>\n",
              "      <td>13.20</td>\n",
              "      <td>1.78</td>\n",
              "      <td>2.14</td>\n",
              "      <td>11.2</td>\n",
              "      <td>100.0</td>\n",
              "      <td>2.65</td>\n",
              "      <td>2.76</td>\n",
              "      <td>0.26</td>\n",
              "      <td>1.28</td>\n",
              "      <td>4.38</td>\n",
              "      <td>1.05</td>\n",
              "      <td>3.40</td>\n",
              "      <td>1050.0</td>\n",
              "      <td>0</td>\n",
              "    </tr>\n",
              "    <tr>\n",
              "      <th>2</th>\n",
              "      <td>13.16</td>\n",
              "      <td>2.36</td>\n",
              "      <td>2.67</td>\n",
              "      <td>18.6</td>\n",
              "      <td>101.0</td>\n",
              "      <td>2.80</td>\n",
              "      <td>3.24</td>\n",
              "      <td>0.30</td>\n",
              "      <td>2.81</td>\n",
              "      <td>5.68</td>\n",
              "      <td>1.03</td>\n",
              "      <td>3.17</td>\n",
              "      <td>1185.0</td>\n",
              "      <td>0</td>\n",
              "    </tr>\n",
              "    <tr>\n",
              "      <th>3</th>\n",
              "      <td>14.37</td>\n",
              "      <td>1.95</td>\n",
              "      <td>2.50</td>\n",
              "      <td>16.8</td>\n",
              "      <td>113.0</td>\n",
              "      <td>3.85</td>\n",
              "      <td>3.49</td>\n",
              "      <td>0.24</td>\n",
              "      <td>2.18</td>\n",
              "      <td>7.80</td>\n",
              "      <td>0.86</td>\n",
              "      <td>3.45</td>\n",
              "      <td>1480.0</td>\n",
              "      <td>0</td>\n",
              "    </tr>\n",
              "    <tr>\n",
              "      <th>4</th>\n",
              "      <td>13.24</td>\n",
              "      <td>2.59</td>\n",
              "      <td>2.87</td>\n",
              "      <td>21.0</td>\n",
              "      <td>118.0</td>\n",
              "      <td>2.80</td>\n",
              "      <td>2.69</td>\n",
              "      <td>0.39</td>\n",
              "      <td>1.82</td>\n",
              "      <td>4.32</td>\n",
              "      <td>1.04</td>\n",
              "      <td>2.93</td>\n",
              "      <td>735.0</td>\n",
              "      <td>0</td>\n",
              "    </tr>\n",
              "  </tbody>\n",
              "</table>\n",
              "</div>\n",
              "      <button class=\"colab-df-convert\" onclick=\"convertToInteractive('df-532d6d7f-25b4-4cfd-8f62-de290d2dfa58')\"\n",
              "              title=\"Convert this dataframe to an interactive table.\"\n",
              "              style=\"display:none;\">\n",
              "        \n",
              "  <svg xmlns=\"http://www.w3.org/2000/svg\" height=\"24px\"viewBox=\"0 0 24 24\"\n",
              "       width=\"24px\">\n",
              "    <path d=\"M0 0h24v24H0V0z\" fill=\"none\"/>\n",
              "    <path d=\"M18.56 5.44l.94 2.06.94-2.06 2.06-.94-2.06-.94-.94-2.06-.94 2.06-2.06.94zm-11 1L8.5 8.5l.94-2.06 2.06-.94-2.06-.94L8.5 2.5l-.94 2.06-2.06.94zm10 10l.94 2.06.94-2.06 2.06-.94-2.06-.94-.94-2.06-.94 2.06-2.06.94z\"/><path d=\"M17.41 7.96l-1.37-1.37c-.4-.4-.92-.59-1.43-.59-.52 0-1.04.2-1.43.59L10.3 9.45l-7.72 7.72c-.78.78-.78 2.05 0 2.83L4 21.41c.39.39.9.59 1.41.59.51 0 1.02-.2 1.41-.59l7.78-7.78 2.81-2.81c.8-.78.8-2.07 0-2.86zM5.41 20L4 18.59l7.72-7.72 1.47 1.35L5.41 20z\"/>\n",
              "  </svg>\n",
              "      </button>\n",
              "      \n",
              "  <style>\n",
              "    .colab-df-container {\n",
              "      display:flex;\n",
              "      flex-wrap:wrap;\n",
              "      gap: 12px;\n",
              "    }\n",
              "\n",
              "    .colab-df-convert {\n",
              "      background-color: #E8F0FE;\n",
              "      border: none;\n",
              "      border-radius: 50%;\n",
              "      cursor: pointer;\n",
              "      display: none;\n",
              "      fill: #1967D2;\n",
              "      height: 32px;\n",
              "      padding: 0 0 0 0;\n",
              "      width: 32px;\n",
              "    }\n",
              "\n",
              "    .colab-df-convert:hover {\n",
              "      background-color: #E2EBFA;\n",
              "      box-shadow: 0px 1px 2px rgba(60, 64, 67, 0.3), 0px 1px 3px 1px rgba(60, 64, 67, 0.15);\n",
              "      fill: #174EA6;\n",
              "    }\n",
              "\n",
              "    [theme=dark] .colab-df-convert {\n",
              "      background-color: #3B4455;\n",
              "      fill: #D2E3FC;\n",
              "    }\n",
              "\n",
              "    [theme=dark] .colab-df-convert:hover {\n",
              "      background-color: #434B5C;\n",
              "      box-shadow: 0px 1px 3px 1px rgba(0, 0, 0, 0.15);\n",
              "      filter: drop-shadow(0px 1px 2px rgba(0, 0, 0, 0.3));\n",
              "      fill: #FFFFFF;\n",
              "    }\n",
              "  </style>\n",
              "\n",
              "      <script>\n",
              "        const buttonEl =\n",
              "          document.querySelector('#df-532d6d7f-25b4-4cfd-8f62-de290d2dfa58 button.colab-df-convert');\n",
              "        buttonEl.style.display =\n",
              "          google.colab.kernel.accessAllowed ? 'block' : 'none';\n",
              "\n",
              "        async function convertToInteractive(key) {\n",
              "          const element = document.querySelector('#df-532d6d7f-25b4-4cfd-8f62-de290d2dfa58');\n",
              "          const dataTable =\n",
              "            await google.colab.kernel.invokeFunction('convertToInteractive',\n",
              "                                                     [key], {});\n",
              "          if (!dataTable) return;\n",
              "\n",
              "          const docLinkHtml = 'Like what you see? Visit the ' +\n",
              "            '<a target=\"_blank\" href=https://colab.research.google.com/notebooks/data_table.ipynb>data table notebook</a>'\n",
              "            + ' to learn more about interactive tables.';\n",
              "          element.innerHTML = '';\n",
              "          dataTable['output_type'] = 'display_data';\n",
              "          await google.colab.output.renderOutput(dataTable, element);\n",
              "          const docLink = document.createElement('div');\n",
              "          docLink.innerHTML = docLinkHtml;\n",
              "          element.appendChild(docLink);\n",
              "        }\n",
              "      </script>\n",
              "    </div>\n",
              "  </div>\n",
              "  "
            ],
            "text/plain": [
              "   alcohol  malic_acid   ash  alcalinity_of_ash  magnesium  total_phenols  \\\n",
              "0    14.23        1.71  2.43               15.6      127.0           2.80   \n",
              "1    13.20        1.78  2.14               11.2      100.0           2.65   \n",
              "2    13.16        2.36  2.67               18.6      101.0           2.80   \n",
              "3    14.37        1.95  2.50               16.8      113.0           3.85   \n",
              "4    13.24        2.59  2.87               21.0      118.0           2.80   \n",
              "\n",
              "   flavanoids  nonflavanoid_phenols  proanthocyanins  color_intensity   hue  \\\n",
              "0        3.06                  0.28             2.29             5.64  1.04   \n",
              "1        2.76                  0.26             1.28             4.38  1.05   \n",
              "2        3.24                  0.30             2.81             5.68  1.03   \n",
              "3        3.49                  0.24             2.18             7.80  0.86   \n",
              "4        2.69                  0.39             1.82             4.32  1.04   \n",
              "\n",
              "   od280/od315_of_diluted_wines  proline  label  \n",
              "0                          3.92   1065.0      0  \n",
              "1                          3.40   1050.0      0  \n",
              "2                          3.17   1185.0      0  \n",
              "3                          3.45   1480.0      0  \n",
              "4                          2.93    735.0      0  "
            ]
          },
          "execution_count": 5,
          "metadata": {},
          "output_type": "execute_result"
        }
      ],
      "source": [
        "df['label'] = rawData.target\n",
        "\n",
        "df.head()"
      ]
    },
    {
      "cell_type": "markdown",
      "metadata": {
        "id": "xwFx6-DjxMWM"
      },
      "source": [
        "5. Visualisasi Class\n",
        "\n",
        "Kita mengetahui bahwa kita akan meiliki3 class/ 3 label untuk dataset ini. Kita akan melakukan visualisasi besaran dari tiap Class yang tersedia "
      ]
    },
    {
      "cell_type": "code",
      "execution_count": 6,
      "metadata": {
        "colab": {
          "base_uri": "https://localhost:8080/",
          "height": 297
        },
        "id": "2W-Tohbnxhj1",
        "outputId": "4bd448d2-9325-4125-f4c3-a8858d3199dc"
      },
      "outputs": [
        {
          "data": {
            "text/plain": [
              "<matplotlib.axes._subplots.AxesSubplot at 0x7ff9d4a08790>"
            ]
          },
          "execution_count": 6,
          "metadata": {},
          "output_type": "execute_result"
        },
        {
          "data": {
            "image/png": "[encoded data removed]",
            "text/plain": [
              "<Figure size 432x288 with 1 Axes>"
            ]
          },
          "metadata": {
            "needs_background": "light"
          },
          "output_type": "display_data"
        }
      ],
      "source": [
        "sns.countplot(df['label'], label=\"Count\")"
      ]
    },
    {
      "cell_type": "markdown",
      "metadata": {
        "id": "tsKzW51zx8y7"
      },
      "source": [
        "# 6. Cek Korelasi Fitur\n",
        "\n",
        "Selanjutnya kita akan mengecek korelasi 13 fitur yang tersedia pada dataset kita"
      ]
    },
    {
      "cell_type": "code",
      "execution_count": 7,
      "metadata": {
        "colab": {
          "base_uri": "https://localhost:8080/",
          "height": 1000
        },
        "id": "qkvI-Hq3yJcn",
        "outputId": "6b259260-0768-40a3-d443-a33fbfdceca0"
      },
      "outputs": [
        {
          "data": {
            "text/plain": [
              "Text(0.5, 1.0, 'Feature Correlation')"
            ]
          },
          "execution_count": 7,
          "metadata": {},
          "output_type": "execute_result"
        },
        {
          "data": {
            "image/png": "[encoded data removed]",
            "text/plain": [
              "<Figure size 1440x1440 with 2 Axes>"
            ]
          },
          "metadata": {
            "needs_background": "light"
          },
          "output_type": "display_data"
        }
      ],
      "source": [
        "corr = df.drop(['label'], axis=1).corr()\n",
        "plt.figure(figsize=(20, 20))\n",
        "sns.heatmap(corr, cbar=True, annot=True)\n",
        "plt.title(\"Feature Correlation\")"
      ]
    },
    {
      "cell_type": "markdown",
      "metadata": {
        "id": "NkHJBY3OzIdT"
      },
      "source": [
        "# 7. Pisahkan Traning Data dan Test Data\n",
        "\n",
        "Pada kasus ini, kita akan menggunakan 25% test data dan 75% training data. Jangan lupa untuk memisahkan x (fitur data) dan y (label data)"
      ]
    },
    {
      "cell_type": "code",
      "execution_count": 8,
      "metadata": {
        "id": "TVqy_nQjzocs"
      },
      "outputs": [],
      "source": [
        "x_train, x_test, y_train, y_test = train_test_split(df.drop(['label'], axis=1), df['label'], test_size=0.25, random_state=42)"
      ]
    },
    {
      "cell_type": "markdown",
      "metadata": {
        "id": "FIFkZ22S2PHz"
      },
      "source": [
        "# 8. Normalisasi Data\n",
        "\n",
        "Lakukan normalisasi data untuk mengurangi kemungkinan Underfitting maupun Overfitting"
      ]
    },
    {
      "cell_type": "code",
      "execution_count": 9,
      "metadata": {
        "id": "3fqszhNZ2Vut"
      },
      "outputs": [],
      "source": [
        "x_train = MinMaxScaler().fit_transform(x_train)\n",
        "x_test = MinMaxScaler().fit_transform(x_test)"
      ]
    },
    {
      "cell_type": "markdown",
      "metadata": {
        "id": "j4gclnbU2hI6"
      },
      "source": [
        "# 9. Buat Model ANN\n",
        "\n"
      ]
    },
    {
      "cell_type": "code",
      "execution_count": 10,
      "metadata": {
        "id": "MgAhzt7M2lFa"
      },
      "outputs": [],
      "source": [
        "# Inisialisasi ANN\n",
        "\n",
        "ann = tf.keras.models.Sequential()"
      ]
    },
    {
      "cell_type": "markdown",
      "metadata": {
        "id": "R8zz1vvB4Vl6"
      },
      "source": [
        "# 10. Buat Hidden Layers"
      ]
    },
    {
      "cell_type": "code",
      "execution_count": 11,
      "metadata": {
        "id": "e871Z4oc4Xa5"
      },
      "outputs": [],
      "source": [
        "# Kita akan menggunakan 6 neuron pada hidden layer pertama\n",
        "# Dan menggunakan fungsi aktivasi relu (rectified linear unit)\n",
        "\n",
        "ann.add(tf.keras.layers.Dense(units=6, activation=\"relu\"))"
      ]
    },
    {
      "cell_type": "code",
      "execution_count": 12,
      "metadata": {
        "id": "gVwwT63-4wtp"
      },
      "outputs": [],
      "source": [
        "# Kita akan menggunakan aturan yang sama pada hidden layer kedua kita\n",
        "\n",
        "ann.add(tf.keras.layers.Dense(units=6, activation=\"relu\"))"
      ]
    },
    {
      "cell_type": "markdown",
      "metadata": {
        "id": "eBPCtjEg49qJ"
      },
      "source": [
        "# 11. Buat Output Layer\n",
        "\n",
        "Kita akan menggunakan fungsi aktivasi softmax untuk output layer kita. Hal ini dikarenakan dataset ini bukan merupakan binary classification problem. Jadi lebih baik jika menggunakan fungsi aktivasi softmax."
      ]
    },
    {
      "cell_type": "code",
      "execution_count": 13,
      "metadata": {
        "id": "kX3QC1YR5ABp"
      },
      "outputs": [],
      "source": [
        "# Kita juga membutuhkan 3 neuron untuk 3 kategori hasil yang berbeda\n",
        "\n",
        "ann.add(tf.keras.layers.Dense(units=3, activation=\"softmax\"))"
      ]
    },
    {
      "cell_type": "markdown",
      "metadata": {
        "id": "RHdb-6ly6CYY"
      },
      "source": [
        "# 12. Compile ANN\n",
        "\n",
        "Kita akan menggunakan fungsi loss 'categorical_crossentropy' dan bukan 'binary_crossentropy' karena lagi-lagi problem ini bukan merupakan binary classification"
      ]
    },
    {
      "cell_type": "code",
      "execution_count": 14,
      "metadata": {
        "id": "C-HrrKMo6D6t"
      },
      "outputs": [],
      "source": [
        "ann.compile(optimizer=\"adam\", loss=\"sparse_categorical_crossentropy\", metrics=['accuracy'])"
      ]
    },
    {
      "cell_type": "markdown",
      "metadata": {
        "id": "d4iam6oi6lQY"
      },
      "source": [
        "# 13. Fitting ANN\n",
        "\n",
        "Kita akan mencoba menggunakan 100 epochs/perulangan forward dan back propagation"
      ]
    },
    {
      "cell_type": "code",
      "execution_count": 15,
      "metadata": {
        "colab": {
          "base_uri": "https://localhost:8080/"
        },
        "id": "7ZWnZxU8612Y",
        "outputId": "61067d23-3d84-4d83-bfcd-bc4d98d8cbc6"
      },
      "outputs": [
        {
          "data": {
            "text/plain": [
              "array([0, 1, 1, 2, 0, 1, 0, 0, 2, 2, 1, 1, 0, 1, 0, 2, 1, 1, 2, 0, 0, 0,\n",
              "       2, 0, 0, 1, 2, 1, 0, 2, 1, 0, 2, 1, 1, 0, 1, 0, 0, 1, 0, 0, 2, 1,\n",
              "       1, 1, 0, 1, 1, 1, 2, 2, 0, 1, 2, 2, 1, 1, 0, 1, 2, 2, 1, 2, 1, 1,\n",
              "       1, 0, 0, 2, 0, 2, 0, 0, 1, 1, 0, 0, 0, 1, 0, 1, 2, 1, 1, 1, 2, 2,\n",
              "       1, 0, 0, 1, 2, 2, 0, 1, 2, 2, 2, 2, 1, 0, 1, 0, 2, 0, 0, 1, 0, 0,\n",
              "       2, 1, 0, 2, 2, 0, 0, 2, 2, 2, 1, 1, 1, 1, 1, 1, 2, 0, 1, 1, 0, 1,\n",
              "       1])"
            ]
          },
          "execution_count": 15,
          "metadata": {},
          "output_type": "execute_result"
        }
      ],
      "source": [
        "# Ubah series dari y_train menjadi numpy array\n",
        "\n",
        "pd.Series.to_numpy(y_train)"
      ]
    },
    {
      "cell_type": "code",
      "execution_count": 16,
      "metadata": {
        "colab": {
          "base_uri": "https://localhost:8080/"
        },
        "id": "kh5v5J3zAMf3",
        "outputId": "b2d3c336-4ab8-44b6-becd-f02a1073994f"
      },
      "outputs": [
        {
          "name": "stdout",
          "output_type": "stream",
          "text": [
            "Epoch 1/100\n",
            "5/5 [==============================] - 2s 5ms/step - loss: 1.1323 - accuracy: 0.3835\n",
            "Epoch 2/100\n",
            "5/5 [==============================] - 0s 5ms/step - loss: 1.1263 - accuracy: 0.3759\n",
            "Epoch 3/100\n",
            "5/5 [==============================] - 0s 4ms/step - loss: 1.1222 - accuracy: 0.3684\n",
            "Epoch 4/100\n",
            "5/5 [==============================] - 0s 5ms/step - loss: 1.1171 - accuracy: 0.3759\n",
            "Epoch 5/100\n",
            "5/5 [==============================] - 0s 5ms/step - loss: 1.1132 - accuracy: 0.3910\n",
            "Epoch 6/100\n",
            "5/5 [==============================] - 0s 5ms/step - loss: 1.1090 - accuracy: 0.4060\n",
            "Epoch 7/100\n",
            "5/5 [==============================] - 0s 4ms/step - loss: 1.1049 - accuracy: 0.4436\n",
            "Epoch 8/100\n",
            "5/5 [==============================] - 0s 5ms/step - loss: 1.1003 - accuracy: 0.4436\n",
            "Epoch 9/100\n",
            "5/5 [==============================] - 0s 9ms/step - loss: 1.0948 - accuracy: 0.4586\n",
            "Epoch 10/100\n",
            "5/5 [==============================] - 0s 8ms/step - loss: 1.0895 - accuracy: 0.4436\n",
            "Epoch 11/100\n",
            "5/5 [==============================] - 0s 9ms/step - loss: 1.0835 - accuracy: 0.4662\n",
            "Epoch 12/100\n",
            "5/5 [==============================] - 0s 6ms/step - loss: 1.0770 - accuracy: 0.4662\n",
            "Epoch 13/100\n",
            "5/5 [==============================] - 0s 6ms/step - loss: 1.0706 - accuracy: 0.4887\n",
            "Epoch 14/100\n",
            "5/5 [==============================] - 0s 5ms/step - loss: 1.0644 - accuracy: 0.4962\n",
            "Epoch 15/100\n",
            "5/5 [==============================] - 0s 4ms/step - loss: 1.0588 - accuracy: 0.4962\n",
            "Epoch 16/100\n",
            "5/5 [==============================] - 0s 5ms/step - loss: 1.0531 - accuracy: 0.5113\n",
            "Epoch 17/100\n",
            "5/5 [==============================] - 0s 5ms/step - loss: 1.0474 - accuracy: 0.5564\n",
            "Epoch 18/100\n",
            "5/5 [==============================] - 0s 5ms/step - loss: 1.0422 - accuracy: 0.5489\n",
            "Epoch 19/100\n",
            "5/5 [==============================] - 0s 8ms/step - loss: 1.0366 - accuracy: 0.5489\n",
            "Epoch 20/100\n",
            "5/5 [==============================] - 0s 8ms/step - loss: 1.0315 - accuracy: 0.5564\n",
            "Epoch 21/100\n",
            "5/5 [==============================] - 0s 7ms/step - loss: 1.0265 - accuracy: 0.5489\n",
            "Epoch 22/100\n",
            "5/5 [==============================] - 0s 4ms/step - loss: 1.0207 - accuracy: 0.5564\n",
            "Epoch 23/100\n",
            "5/5 [==============================] - 0s 6ms/step - loss: 1.0154 - accuracy: 0.5564\n",
            "Epoch 24/100\n",
            "5/5 [==============================] - 0s 10ms/step - loss: 1.0101 - accuracy: 0.5564\n",
            "Epoch 25/100\n",
            "5/5 [==============================] - 0s 7ms/step - loss: 1.0043 - accuracy: 0.5564\n",
            "Epoch 26/100\n",
            "5/5 [==============================] - 0s 8ms/step - loss: 0.9992 - accuracy: 0.5564\n",
            "Epoch 27/100\n",
            "5/5 [==============================] - 0s 5ms/step - loss: 0.9933 - accuracy: 0.5564\n",
            "Epoch 28/100\n",
            "5/5 [==============================] - 0s 7ms/step - loss: 0.9876 - accuracy: 0.5639\n",
            "Epoch 29/100\n",
            "5/5 [==============================] - 0s 6ms/step - loss: 0.9814 - accuracy: 0.5564\n",
            "Epoch 30/100\n",
            "5/5 [==============================] - 0s 6ms/step - loss: 0.9754 - accuracy: 0.5489\n",
            "Epoch 31/100\n",
            "5/5 [==============================] - 0s 5ms/step - loss: 0.9691 - accuracy: 0.5414\n",
            "Epoch 32/100\n",
            "5/5 [==============================] - 0s 5ms/step - loss: 0.9631 - accuracy: 0.5489\n",
            "Epoch 33/100\n",
            "5/5 [==============================] - 0s 5ms/step - loss: 0.9575 - accuracy: 0.5639\n",
            "Epoch 34/100\n",
            "5/5 [==============================] - 0s 7ms/step - loss: 0.9517 - accuracy: 0.5714\n",
            "Epoch 35/100\n",
            "5/5 [==============================] - 0s 4ms/step - loss: 0.9452 - accuracy: 0.5639\n",
            "Epoch 36/100\n",
            "5/5 [==============================] - 0s 10ms/step - loss: 0.9383 - accuracy: 0.5489\n",
            "Epoch 37/100\n",
            "5/5 [==============================] - 0s 7ms/step - loss: 0.9316 - accuracy: 0.5489\n",
            "Epoch 38/100\n",
            "5/5 [==============================] - 0s 4ms/step - loss: 0.9239 - accuracy: 0.5338\n",
            "Epoch 39/100\n",
            "5/5 [==============================] - 0s 4ms/step - loss: 0.9165 - accuracy: 0.5263\n",
            "Epoch 40/100\n",
            "5/5 [==============================] - 0s 4ms/step - loss: 0.9090 - accuracy: 0.5338\n",
            "Epoch 41/100\n",
            "5/5 [==============================] - 0s 4ms/step - loss: 0.9003 - accuracy: 0.5414\n",
            "Epoch 42/100\n",
            "5/5 [==============================] - 0s 6ms/step - loss: 0.8921 - accuracy: 0.5489\n",
            "Epoch 43/100\n",
            "5/5 [==============================] - 0s 5ms/step - loss: 0.8830 - accuracy: 0.5639\n",
            "Epoch 44/100\n",
            "5/5 [==============================] - 0s 5ms/step - loss: 0.8738 - accuracy: 0.5714\n",
            "Epoch 45/100\n",
            "5/5 [==============================] - 0s 7ms/step - loss: 0.8645 - accuracy: 0.5789\n",
            "Epoch 46/100\n",
            "5/5 [==============================] - 0s 9ms/step - loss: 0.8552 - accuracy: 0.5865\n",
            "Epoch 47/100\n",
            "5/5 [==============================] - 0s 7ms/step - loss: 0.8461 - accuracy: 0.6015\n",
            "Epoch 48/100\n",
            "5/5 [==============================] - 0s 5ms/step - loss: 0.8366 - accuracy: 0.6015\n",
            "Epoch 49/100\n",
            "5/5 [==============================] - 0s 5ms/step - loss: 0.8272 - accuracy: 0.6015\n",
            "Epoch 50/100\n",
            "5/5 [==============================] - 0s 5ms/step - loss: 0.8181 - accuracy: 0.6015\n",
            "Epoch 51/100\n",
            "5/5 [==============================] - 0s 8ms/step - loss: 0.8093 - accuracy: 0.6015\n",
            "Epoch 52/100\n",
            "5/5 [==============================] - 0s 7ms/step - loss: 0.8004 - accuracy: 0.6015\n",
            "Epoch 53/100\n",
            "5/5 [==============================] - 0s 10ms/step - loss: 0.7911 - accuracy: 0.6015\n",
            "Epoch 54/100\n",
            "5/5 [==============================] - 0s 6ms/step - loss: 0.7821 - accuracy: 0.6015\n",
            "Epoch 55/100\n",
            "5/5 [==============================] - 0s 5ms/step - loss: 0.7732 - accuracy: 0.6015\n",
            "Epoch 56/100\n",
            "5/5 [==============================] - 0s 5ms/step - loss: 0.7650 - accuracy: 0.6015\n",
            "Epoch 57/100\n",
            "5/5 [==============================] - 0s 8ms/step - loss: 0.7558 - accuracy: 0.6015\n",
            "Epoch 58/100\n",
            "5/5 [==============================] - 0s 7ms/step - loss: 0.7467 - accuracy: 0.6165\n",
            "Epoch 59/100\n",
            "5/5 [==============================] - 0s 7ms/step - loss: 0.7365 - accuracy: 0.6391\n",
            "Epoch 60/100\n",
            "5/5 [==============================] - 0s 6ms/step - loss: 0.7263 - accuracy: 0.6541\n",
            "Epoch 61/100\n",
            "5/5 [==============================] - 0s 7ms/step - loss: 0.7159 - accuracy: 0.6541\n",
            "Epoch 62/100\n",
            "5/5 [==============================] - 0s 7ms/step - loss: 0.7046 - accuracy: 0.6617\n",
            "Epoch 63/100\n",
            "5/5 [==============================] - 0s 7ms/step - loss: 0.6947 - accuracy: 0.6692\n",
            "Epoch 64/100\n",
            "5/5 [==============================] - 0s 5ms/step - loss: 0.6844 - accuracy: 0.6767\n",
            "Epoch 65/100\n",
            "5/5 [==============================] - 0s 10ms/step - loss: 0.6747 - accuracy: 0.6917\n",
            "Epoch 66/100\n",
            "5/5 [==============================] - 0s 5ms/step - loss: 0.6647 - accuracy: 0.7143\n",
            "Epoch 67/100\n",
            "5/5 [==============================] - 0s 10ms/step - loss: 0.6538 - accuracy: 0.7293\n",
            "Epoch 68/100\n",
            "5/5 [==============================] - 0s 16ms/step - loss: 0.6431 - accuracy: 0.7444\n",
            "Epoch 69/100\n",
            "5/5 [==============================] - 0s 8ms/step - loss: 0.6330 - accuracy: 0.7594\n",
            "Epoch 70/100\n",
            "5/5 [==============================] - 0s 6ms/step - loss: 0.6231 - accuracy: 0.7820\n",
            "Epoch 71/100\n",
            "5/5 [==============================] - 0s 4ms/step - loss: 0.6124 - accuracy: 0.7895\n",
            "Epoch 72/100\n",
            "5/5 [==============================] - 0s 6ms/step - loss: 0.6020 - accuracy: 0.8120\n",
            "Epoch 73/100\n",
            "5/5 [==============================] - 0s 5ms/step - loss: 0.5915 - accuracy: 0.8120\n",
            "Epoch 74/100\n",
            "5/5 [==============================] - 0s 5ms/step - loss: 0.5815 - accuracy: 0.8195\n",
            "Epoch 75/100\n",
            "5/5 [==============================] - 0s 5ms/step - loss: 0.5701 - accuracy: 0.8346\n",
            "Epoch 76/100\n",
            "5/5 [==============================] - 0s 10ms/step - loss: 0.5595 - accuracy: 0.8571\n",
            "Epoch 77/100\n",
            "5/5 [==============================] - 0s 11ms/step - loss: 0.5486 - accuracy: 0.8722\n",
            "Epoch 78/100\n",
            "5/5 [==============================] - 0s 7ms/step - loss: 0.5385 - accuracy: 0.8797\n",
            "Epoch 79/100\n",
            "5/5 [==============================] - 0s 5ms/step - loss: 0.5278 - accuracy: 0.8872\n",
            "Epoch 80/100\n",
            "5/5 [==============================] - 0s 6ms/step - loss: 0.5171 - accuracy: 0.8872\n",
            "Epoch 81/100\n",
            "5/5 [==============================] - 0s 7ms/step - loss: 0.5060 - accuracy: 0.8722\n",
            "Epoch 82/100\n",
            "5/5 [==============================] - 0s 7ms/step - loss: 0.4969 - accuracy: 0.8722\n",
            "Epoch 83/100\n",
            "5/5 [==============================] - 0s 5ms/step - loss: 0.4872 - accuracy: 0.8722\n",
            "Epoch 84/100\n",
            "5/5 [==============================] - 0s 6ms/step - loss: 0.4759 - accuracy: 0.8797\n",
            "Epoch 85/100\n",
            "5/5 [==============================] - 0s 9ms/step - loss: 0.4658 - accuracy: 0.8872\n",
            "Epoch 86/100\n",
            "5/5 [==============================] - 0s 11ms/step - loss: 0.4554 - accuracy: 0.8947\n",
            "Epoch 87/100\n",
            "5/5 [==============================] - 0s 7ms/step - loss: 0.4463 - accuracy: 0.8947\n",
            "Epoch 88/100\n",
            "5/5 [==============================] - 0s 6ms/step - loss: 0.4359 - accuracy: 0.9248\n",
            "Epoch 89/100\n",
            "5/5 [==============================] - 0s 8ms/step - loss: 0.4260 - accuracy: 0.9323\n",
            "Epoch 90/100\n",
            "5/5 [==============================] - 0s 6ms/step - loss: 0.4166 - accuracy: 0.9323\n",
            "Epoch 91/100\n",
            "5/5 [==============================] - 0s 5ms/step - loss: 0.4058 - accuracy: 0.9323\n",
            "Epoch 92/100\n",
            "5/5 [==============================] - 0s 7ms/step - loss: 0.3961 - accuracy: 0.9323\n",
            "Epoch 93/100\n",
            "5/5 [==============================] - 0s 6ms/step - loss: 0.3868 - accuracy: 0.9323\n",
            "Epoch 94/100\n",
            "5/5 [==============================] - 0s 7ms/step - loss: 0.3769 - accuracy: 0.9323\n",
            "Epoch 95/100\n",
            "5/5 [==============================] - 0s 4ms/step - loss: 0.3672 - accuracy: 0.9323\n",
            "Epoch 96/100\n",
            "5/5 [==============================] - 0s 5ms/step - loss: 0.3578 - accuracy: 0.9323\n",
            "Epoch 97/100\n",
            "5/5 [==============================] - 0s 5ms/step - loss: 0.3478 - accuracy: 0.9398\n",
            "Epoch 98/100\n",
            "5/5 [==============================] - 0s 5ms/step - loss: 0.3394 - accuracy: 0.9398\n",
            "Epoch 99/100\n",
            "5/5 [==============================] - 0s 5ms/step - loss: 0.3317 - accuracy: 0.9398\n",
            "Epoch 100/100\n",
            "5/5 [==============================] - 0s 5ms/step - loss: 0.3224 - accuracy: 0.9549\n"
          ]
        },
        {
          "data": {
            "text/plain": [
              "<keras.callbacks.History at 0x7ff9cbe94210>"
            ]
          },
          "execution_count": 16,
          "metadata": {},
          "output_type": "execute_result"
        }
      ],
      "source": [
        "ann.fit(x_train, y_train, batch_size=32, epochs=100)"
      ]
    }
  ],
  "metadata": {
    "colab": {
      "provenance": []
    },
    "kernelspec": {
      "display_name": "Python 3",
      "name": "python3"
    },
    "language_info": {
      "name": "python"
    }
  },
  "nbformat": 4,
  "nbformat_minor": 0
}
